{
  "cells": [
    {
      "cell_type": "markdown",
      "metadata": {},
      "source": [
        "\n",
        "## Open a Virtual Screen on the Web\n",
        "\n",
        "If you started your editor as a Codespace on Github, that is, you clicked\n",
        "on a button like <img style=\"vertical-align:middle\" src=\"https://images.jointheleague.org/vscode/create_codespace.png\" height=\"25px\" > \n",
        "to start your editor, then you'll need to open a virtual screen. Most of the time this will happen automatically, but if it doesn't click on the monitor icon <img style=\"vertical-align:middle\" src=\"https://images.jointheleague.org/vscode/monitor_icon.png\" height=\"25px\" > in the upper right of the screen. \n",
        "\n",
        "Now you have a virtual screen running. When your program writes to the screen, it will show up in this window. \n",
        "\n"
      ]
    },
    {
      "cell_type": "markdown",
      "metadata": {},
      "source": []
    }
  ],
  "metadata": {
    "kernelspec": {
      "display_name": "Python 3",
      "language": "python",
      "name": "python3"
    },
    "language_info": {
      "codemirror_mode": {
        "name": "ipython",
        "version": 3
      },
      "file_extension": ".py",
      "mimetype": "text/x-python",
      "name": "python",
      "nbconvert_exporter": "python",
      "pygments_lexer": "ipython3",
      "version": "3.12.11"
    },
    "syllabus": {
      "uid": "KmgIQbhr"
    }
  },
  "nbformat": 4,
  "nbformat_minor": 4
}
