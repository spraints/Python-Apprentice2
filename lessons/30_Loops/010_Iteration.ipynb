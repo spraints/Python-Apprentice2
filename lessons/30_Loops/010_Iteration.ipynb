{
  "cells": [
    {
      "cell_type": "markdown",
      "metadata": {},
      "source": [
        "# Loops and Iteration\n",
        "\n",
        "We've already used loops a lot. They look like this: \n",
        "\n",
        "```python \n",
        "\n",
        "for i in range(10):\n",
        "    print(i)\n",
        "\n",
        "```\n",
        "\n",
        "Like ``if`` statements, loops have parts that we can understand individually.\n",
        "All of the loops start with ``for``, then have a variable name, then have\n",
        "``in``. The last part is called an \"iterable\". \n",
        "\n",
        "So, the form of the loop line is always:\n",
        "\n",
        "```\n",
        "   for <variable> in <iterable>:\n",
        "```\n",
        "\n",
        "We call it an \"iterable\" because ... we can iterate it, and \"iterate\" just\n",
        "means \"take one thing after another\".\n",
        "\n",
        "Here are some things that are iterable:\n",
        "\n",
        "* a list: ['a','b','c','d']\n",
        "* a tuple: (1,2,3,4,5)\n",
        "* a string: \"hello world\"\n",
        "* range: range(10)\n",
        "* many others!\n",
        "\n",
        "You can put any of those things into a loop and get one part of them at a time. "
      ]
    },
    {
      "cell_type": "code",
      "execution_count": null,
      "metadata": {},
      "outputs": [],
      "source": [
        "# Run Me!\n",
        "# Iterate over range()\n",
        "\n",
        "for i in range(5):\n",
        "    print(i)"
      ]
    },
    {
      "cell_type": "code",
      "execution_count": null,
      "metadata": {},
      "outputs": [],
      "source": [
        "# Iterate a list\n",
        "for i in ['a','b','c','d']:\n",
        "    print(i)"
      ]
    },
    {
      "cell_type": "code",
      "execution_count": null,
      "metadata": {},
      "outputs": [],
      "source": [
        "# Iterate over a string\n",
        "for c in \"Hello World!\":\n",
        "    print(c)"
      ]
    },
    {
      "cell_type": "markdown",
      "metadata": {},
      "source": [
        "In the next lessons we'll learn about each of these terable types. "
      ]
    },
    {
      "cell_type": "markdown",
      "metadata": {},
      "source": []
    }
  ],
  "metadata": {
    "kernelspec": {
      "display_name": ".venv",
      "language": "python",
      "name": "python3"
    },
    "language_info": {
      "codemirror_mode": {
        "name": "ipython",
        "version": 3
      },
      "file_extension": ".py",
      "mimetype": "text/x-python",
      "name": "python",
      "nbconvert_exporter": "python",
      "pygments_lexer": "ipython3",
      "version": "3.12.0"
    },
    "syllabus": {
      "uid": "ITpqcvxv"
    }
  },
  "nbformat": 4,
  "nbformat_minor": 2
}